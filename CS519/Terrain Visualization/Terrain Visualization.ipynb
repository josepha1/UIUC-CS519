{
 "cells": [
  {
   "cell_type": "markdown",
   "id": "endangered-genre",
   "metadata": {},
   "source": [
    "# <span style = \"color:black\">Programming Assignment: Terrain Visualization</span>"
   ]
  },
  {
   "cell_type": "code",
   "execution_count": 1,
   "id": "composed-investor",
   "metadata": {},
   "outputs": [
    {
     "data": {
      "text/html": [
       "<style>.container { width:100% !important; }</style>"
      ],
      "text/plain": [
       "<IPython.core.display.HTML object>"
      ]
     },
     "metadata": {},
     "output_type": "display_data"
    }
   ],
   "source": [
    "from IPython.core.display import display, HTML\n",
    "display(HTML('<style>.container { width:100% !important; }</style>'))"
   ]
  },
  {
   "cell_type": "markdown",
   "id": "adult-edinburgh",
   "metadata": {},
   "source": [
    "In this activity, you will work with creating and manipulating 3D surface meshes using **PyVista**, a Python interface for the **Visualization Toolkit (VTK)**. VTK is a powerful open-source library for computer graphics, visualization, and image processing. You can learn more about both tools through these references:\n",
    "- https://docs.pyvista.org/\n",
    "- https://vtk.org/\n",
    "\n",
    "We will also be using the **itkwidgets** library, which provides interactive Jupyter widgets for plotting, to visualize our meshes.\n",
    "\n",
    "The outline of this activity will be:\n",
    "1. Creating a 3D surface mesh\n",
    "2. Writing code to coarsen the mesh\n",
    "3. Writing code to visualize the error in elevation between the original mesh and the coarse mesh"
   ]
  },
  {
   "cell_type": "code",
   "execution_count": 2,
   "id": "active-offset",
   "metadata": {},
   "outputs": [],
   "source": [
    "%matplotlib inline\n",
    "from pyvista import set_plot_theme\n",
    "set_plot_theme('document')"
   ]
  },
  {
   "cell_type": "markdown",
   "id": "fatal-certification",
   "metadata": {},
   "source": [
    "## <span style = \"color:blue\">Part 1: Creating a 3D Surface Mesh</span>\n",
    "We will start by using a topographic surface to create a 3D terrain-following mesh.\n",
    "\n",
    "Terrain following meshes are common in the environmental sciences, for instance\n",
    "in hydrological modelling (see\n",
    "[Maxwell 2013](https://www.sciencedirect.com/science/article/abs/pii/S0309170812002564)\n",
    "and\n",
    "[ParFlow](https://parflow.org)).\n",
    "\n",
    "Below, we domonstrate a simple way to make a 3D grid/mesh that\n",
    "follows a given topographic surface. In this example, it is important to note\n",
    "that the given digital elevation model (DEM) is structured (gridded and not\n",
    "triangulated): this is common for DEMs.\n"
   ]
  },
  {
   "cell_type": "code",
   "execution_count": 3,
   "id": "hazardous-valentine",
   "metadata": {},
   "outputs": [],
   "source": [
    "import pyvista as pv\n",
    "import math\n",
    "import numpy as np\n",
    "import pylab as plt\n",
    "from pyvista import examples"
   ]
  },
  {
   "cell_type": "markdown",
   "id": "olive-major",
   "metadata": {},
   "source": [
    "Download a gridded topography surface (DEM) using one of the examples provided by PyVista"
   ]
  },
  {
   "cell_type": "code",
   "execution_count": 4,
   "id": "delayed-workshop",
   "metadata": {},
   "outputs": [
    {
     "data": {
      "text/html": [
       "<table><tr><th>Header</th><th>Data Arrays</th></tr><tr><td>\n",
       "<table>\n",
       "<tr><th>UniformGrid</th><th>Information</th></tr>\n",
       "<tr><td>N Cells</td><td>1677401</td></tr>\n",
       "<tr><td>N Points</td><td>1680000</td></tr>\n",
       "<tr><td>X Bounds</td><td>1.810e+06, 1.831e+06</td></tr>\n",
       "<tr><td>Y Bounds</td><td>5.640e+06, 5.658e+06</td></tr>\n",
       "<tr><td>Z Bounds</td><td>0.000e+00, 0.000e+00</td></tr>\n",
       "<tr><td>Dimensions</td><td>1400, 1200, 1</td></tr>\n",
       "<tr><td>Spacing</td><td>1.500e+01, 1.500e+01, 0.000e+00</td></tr>\n",
       "<tr><td>N Arrays</td><td>1</td></tr>\n",
       "</table>\n",
       "\n",
       "</td><td>\n",
       "<table>\n",
       "<tr><th>Name</th><th>Field</th><th>Type</th><th>N Comp</th><th>Min</th><th>Max</th></tr>\n",
       "<tr><td><b>scalar1of1</b></td><td>Points</td><td>float64</td><td>1</td><td>7.339e+02</td><td>2.787e+03</td></tr>\n",
       "</table>\n",
       "\n",
       "</td></tr> </table>"
      ],
      "text/plain": [
       "UniformGrid (0x1e521ac15e8)\n",
       "  N Cells:\t1677401\n",
       "  N Points:\t1680000\n",
       "  X Bounds:\t1.810e+06, 1.831e+06\n",
       "  Y Bounds:\t5.640e+06, 5.658e+06\n",
       "  Z Bounds:\t0.000e+00, 0.000e+00\n",
       "  Dimensions:\t1400, 1200, 1\n",
       "  Spacing:\t1.500e+01, 1.500e+01, 0.000e+00\n",
       "  N Arrays:\t1"
      ]
     },
     "execution_count": 4,
     "metadata": {},
     "output_type": "execute_result"
    }
   ],
   "source": [
    "dem = examples.download_crater_topo()\n",
    "dem"
   ]
  },
  {
   "cell_type": "markdown",
   "id": "respected-store",
   "metadata": {},
   "source": [
    "Now let's subsample and extract an area of interest to make this example\n",
    "simple (also the DEM we just loaded is pretty big).\n",
    "Since the DEM we loaded is a `pyvista.UniformGrid` mesh, we can use\n",
    "the `pyvista.UniformGridFilters.extract_subset` filter to extract a 257x257-point (256x256-cell) area from the DEM:\n",
    "\n"
   ]
  },
  {
   "cell_type": "code",
   "execution_count": 5,
   "id": "latter-football",
   "metadata": {},
   "outputs": [
    {
     "data": {
      "text/html": [
       "<table><tr><th>Header</th><th>Data Arrays</th></tr><tr><td>\n",
       "<table>\n",
       "<tr><th>UniformGrid</th><th>Information</th></tr>\n",
       "<tr><td>N Cells</td><td>65536</td></tr>\n",
       "<tr><td>N Points</td><td>66049</td></tr>\n",
       "<tr><td>X Bounds</td><td>1.819e+06, 1.822e+06</td></tr>\n",
       "<tr><td>Y Bounds</td><td>5.647e+06, 5.651e+06</td></tr>\n",
       "<tr><td>Z Bounds</td><td>0.000e+00, 0.000e+00</td></tr>\n",
       "<tr><td>Dimensions</td><td>257, 257, 1</td></tr>\n",
       "<tr><td>Spacing</td><td>1.500e+01, 1.500e+01, 0.000e+00</td></tr>\n",
       "<tr><td>N Arrays</td><td>1</td></tr>\n",
       "</table>\n",
       "\n",
       "</td><td>\n",
       "<table>\n",
       "<tr><th>Name</th><th>Field</th><th>Type</th><th>N Comp</th><th>Min</th><th>Max</th></tr>\n",
       "<tr><td><b>scalar1of1</b></td><td>Points</td><td>float64</td><td>1</td><td>1.777e+03</td><td>2.787e+03</td></tr>\n",
       "</table>\n",
       "\n",
       "</td></tr> </table>"
      ],
      "text/plain": [
       "UniformGrid (0x1e521ac1c48)\n",
       "  N Cells:\t65536\n",
       "  N Points:\t66049\n",
       "  X Bounds:\t1.819e+06, 1.822e+06\n",
       "  Y Bounds:\t5.647e+06, 5.651e+06\n",
       "  Z Bounds:\t0.000e+00, 0.000e+00\n",
       "  Dimensions:\t257, 257, 1\n",
       "  Spacing:\t1.500e+01, 1.500e+01, 0.000e+00\n",
       "  N Arrays:\t1"
      ]
     },
     "execution_count": 5,
     "metadata": {},
     "output_type": "execute_result"
    }
   ],
   "source": [
    "subset = dem.extract_subset((572, 828, 472, 728, 0, 0), (1, 1, 1))\n",
    "subset"
   ]
  },
  {
   "cell_type": "markdown",
   "id": "downtown-closing",
   "metadata": {},
   "source": [
    "Let's plot the area we just extracted to see what it looks like"
   ]
  },
  {
   "cell_type": "code",
   "execution_count": 6,
   "id": "occasional-baker",
   "metadata": {},
   "outputs": [
    {
     "data": {
      "application/vnd.jupyter.widget-view+json": {
       "model_id": "eb1f84f01593405ab075d0ab4c6523d7",
       "version_major": 2,
       "version_minor": 0
      },
      "text/plain": [
       "Viewer(geometries=[{'vtkClass': 'vtkPolyData', 'points': {'vtkClass': 'vtkPoints', 'name': '_points', 'numberO…"
      ]
     },
     "metadata": {},
     "output_type": "display_data"
    },
    {
     "data": {
      "application/vnd.jupyter.widget-view+json": {
       "model_id": "eb1f84f01593405ab075d0ab4c6523d7",
       "version_major": 2,
       "version_minor": 0
      },
      "text/plain": [
       "Viewer(geometries=[{'vtkClass': 'vtkPolyData', 'points': {'vtkClass': 'vtkPoints', 'name': '_points', 'numberO…"
      ]
     },
     "metadata": {},
     "output_type": "display_data"
    }
   ],
   "source": [
    "pv.plot_itk(subset)"
   ]
  },
  {
   "cell_type": "code",
   "execution_count": 7,
   "id": "cooked-earth",
   "metadata": {},
   "outputs": [
    {
     "data": {
      "application/vnd.jupyter.widget-view+json": {
       "model_id": "4b1302f6d98945659ad6ef691dc750d5",
       "version_major": 2,
       "version_minor": 0
      },
      "text/plain": [
       "Viewer(geometries=[{'vtkClass': 'vtkPolyData', 'points': {'vtkClass': 'vtkPoints', 'name': '_points', 'numberO…"
      ]
     },
     "metadata": {},
     "output_type": "display_data"
    },
    {
     "data": {
      "application/vnd.jupyter.widget-view+json": {
       "model_id": "4b1302f6d98945659ad6ef691dc750d5",
       "version_major": 2,
       "version_minor": 0
      },
      "text/plain": [
       "Viewer(geometries=[{'vtkClass': 'vtkPolyData', 'points': {'vtkClass': 'vtkPoints', 'name': '_points', 'numberO…"
      ]
     },
     "metadata": {},
     "output_type": "display_data"
    }
   ],
   "source": [
    "plotter = pv.PlotterITK()\n",
    "plotter.add_mesh(subset, smooth_shading = True)\n",
    "plotter.show(True)"
   ]
  },
  {
   "cell_type": "markdown",
   "id": "unique-illustration",
   "metadata": {},
   "source": [
    "Now that we have a region of interest for our terrain following mesh, lets make a 3D surface of that DEM"
   ]
  },
  {
   "cell_type": "code",
   "execution_count": 8,
   "id": "revolutionary-target",
   "metadata": {},
   "outputs": [
    {
     "data": {
      "text/html": [
       "<table><tr><th>Header</th><th>Data Arrays</th></tr><tr><td>\n",
       "<table>\n",
       "<tr><th>StructuredGrid</th><th>Information</th></tr>\n",
       "<tr><td>N Cells</td><td>65536</td></tr>\n",
       "<tr><td>N Points</td><td>66049</td></tr>\n",
       "<tr><td>X Bounds</td><td>1.819e+06, 1.822e+06</td></tr>\n",
       "<tr><td>Y Bounds</td><td>5.647e+06, 5.651e+06</td></tr>\n",
       "<tr><td>Z Bounds</td><td>1.777e+03, 2.787e+03</td></tr>\n",
       "<tr><td>Dimensions</td><td>257, 257, 1</td></tr>\n",
       "<tr><td>N Arrays</td><td>1</td></tr>\n",
       "</table>\n",
       "\n",
       "</td><td>\n",
       "<table>\n",
       "<tr><th>Name</th><th>Field</th><th>Type</th><th>N Comp</th><th>Min</th><th>Max</th></tr>\n",
       "<tr><td><b>scalar1of1</b></td><td>Points</td><td>float64</td><td>1</td><td>1.777e+03</td><td>2.787e+03</td></tr>\n",
       "</table>\n",
       "\n",
       "</td></tr> </table>"
      ],
      "text/plain": [
       "StructuredGrid (0x1e52b382948)\n",
       "  N Cells:\t65536\n",
       "  N Points:\t66049\n",
       "  X Bounds:\t1.819e+06, 1.822e+06\n",
       "  Y Bounds:\t5.647e+06, 5.651e+06\n",
       "  Z Bounds:\t1.777e+03, 2.787e+03\n",
       "  Dimensions:\t257, 257, 1\n",
       "  N Arrays:\t1"
      ]
     },
     "execution_count": 8,
     "metadata": {},
     "output_type": "execute_result"
    }
   ],
   "source": [
    "terrain = subset.warp_by_scalar() # Warp into a 3D surface mesh (without volume)\n",
    "terrain"
   ]
  },
  {
   "cell_type": "markdown",
   "id": "sublime-shoot",
   "metadata": {},
   "source": [
    "We can see that our terrain is now a `pyvista.StructuredGrid` mesh. Now let's plot our terrain"
   ]
  },
  {
   "cell_type": "code",
   "execution_count": 9,
   "id": "illegal-exclusion",
   "metadata": {},
   "outputs": [
    {
     "data": {
      "application/vnd.jupyter.widget-view+json": {
       "model_id": "6d3b03b5f0ee40769ff10ac9f861fdb1",
       "version_major": 2,
       "version_minor": 0
      },
      "text/plain": [
       "Viewer(geometries=[{'vtkClass': 'vtkPolyData', 'points': {'vtkClass': 'vtkPoints', 'name': '_points', 'numberO…"
      ]
     },
     "metadata": {},
     "output_type": "display_data"
    },
    {
     "data": {
      "application/vnd.jupyter.widget-view+json": {
       "model_id": "6d3b03b5f0ee40769ff10ac9f861fdb1",
       "version_major": 2,
       "version_minor": 0
      },
      "text/plain": [
       "Viewer(geometries=[{'vtkClass': 'vtkPolyData', 'points': {'vtkClass': 'vtkPoints', 'name': '_points', 'numberO…"
      ]
     },
     "metadata": {},
     "output_type": "display_data"
    }
   ],
   "source": [
    "pv.plot_itk(terrain)"
   ]
  },
  {
   "cell_type": "markdown",
   "id": "composite-representation",
   "metadata": {},
   "source": [
    "## Part 2: Coarsening the Mesh (and Writing Code)\n",
    "In this section, you will write code to generate a new coarse mesh from our `terrain` mesh. Coarse meshes generally provide less accurate solutions, but are computationally faster. \n",
    "\n",
    "Your new mesh should be a `StructuredGrid`, just like the original mesh, but with a lower resolution. This means you will need to redefine the (x, y, z) coordinate points of your mesh. We will explain how to redefine your coordinates a little later on.\n",
    "\n",
    "First, let's start with understanding how to generate a new mesh. You can initialize a new `StructuredGrid` object directly from the three point arrays that each contain the x, y, and z coordinates of all points in the mesh, respectively. Note: Each array is a 3D array with dimensions M x N x 1 (with the z-axis always being of length 1).\n",
    "\n",
    "You will find the following reference helpful: https://docs.pyvista.org/core/point-grids.html#pyvista.StructuredGrid.\n",
    "\n",
    "Let's look at the example below for initializing a new `StructuredGrid`."
   ]
  },
  {
   "cell_type": "code",
   "execution_count": 10,
   "id": "twelve-falls",
   "metadata": {},
   "outputs": [
    {
     "data": {
      "text/html": [
       "\n",
       "<table>\n",
       "<tr><th>StructuredGrid</th><th>Information</th></tr>\n",
       "<tr><td>N Cells</td><td>729</td></tr>\n",
       "<tr><td>N Points</td><td>1000</td></tr>\n",
       "<tr><td>X Bounds</td><td>-1.000e+01, 8.000e+00</td></tr>\n",
       "<tr><td>Y Bounds</td><td>-1.000e+01, 8.000e+00</td></tr>\n",
       "<tr><td>Z Bounds</td><td>-1.000e+01, 8.000e+00</td></tr>\n",
       "<tr><td>Dimensions</td><td>10, 10, 10</td></tr>\n",
       "<tr><td>N Arrays</td><td>0</td></tr>\n",
       "</table>\n",
       "\n"
      ],
      "text/plain": [
       "StructuredGrid (0x1e521ac1ee8)\n",
       "  N Cells:\t729\n",
       "  N Points:\t1000\n",
       "  X Bounds:\t-1.000e+01, 8.000e+00\n",
       "  Y Bounds:\t-1.000e+01, 8.000e+00\n",
       "  Z Bounds:\t-1.000e+01, 8.000e+00\n",
       "  Dimensions:\t10, 10, 10\n",
       "  N Arrays:\t0"
      ]
     },
     "execution_count": 10,
     "metadata": {},
     "output_type": "execute_result"
    }
   ],
   "source": [
    "x_rng = np.arange(-10, 10, 2)          # [-10, -8, -6, -4, -2, 0, 2, 4, 6, 8]\n",
    "y_rng = np.arange(-10, 10, 2)\n",
    "z_rng = np.arange(-10, 10, 2)\n",
    "x_example, y_example, z_example = np.meshgrid(x_rng, y_rng, z_rng)\n",
    "grid_example = pv.StructuredGrid(x_example, y_example, z_example)\n",
    "grid_example"
   ]
  },
  {
   "cell_type": "markdown",
   "id": "understood-ministry",
   "metadata": {},
   "source": [
    "Now, let's follow the same general steps as in the above example to generate our new coarse mesh from our previously created `terrain` mesh.\n",
    "\n",
    "We can coarsen the mesh by merging every `2f` quads/cells into one and dropping the center point, where `f` is your sampling factor aka the factor by which you want to reduce the resolution. In other words, we can produce a reduced version of the mesh by sampling one out of every `f` points along each axis of the mesh.\n",
    "\n",
    "Write code to coarsen `terrain` by a **factor of 2**. In other words, we will be converting the mesh from a 257x257-point mesh to a 129x129-point mesh (or equivalently, a 256x256-cell mesh to a 128x128-cell mesh). \n",
    "\n",
    "In the code block below, define three new point arrays, `xnew`, `ynew`, and `znew` and compose them into a new `StructuredGrid` object named `coarse`."
   ]
  },
  {
   "cell_type": "code",
   "execution_count": 11,
   "id": "dimensional-subdivision",
   "metadata": {},
   "outputs": [
    {
     "data": {
      "text/html": [
       "\n",
       "<table>\n",
       "<tr><th>StructuredGrid</th><th>Information</th></tr>\n",
       "<tr><td>N Cells</td><td>16384</td></tr>\n",
       "<tr><td>N Points</td><td>16641</td></tr>\n",
       "<tr><td>X Bounds</td><td>1.819e+06, 1.822e+06</td></tr>\n",
       "<tr><td>Y Bounds</td><td>5.647e+06, 5.651e+06</td></tr>\n",
       "<tr><td>Z Bounds</td><td>1.778e+03, 2.780e+03</td></tr>\n",
       "<tr><td>Dimensions</td><td>129, 129, 1</td></tr>\n",
       "<tr><td>N Arrays</td><td>0</td></tr>\n",
       "</table>\n",
       "\n"
      ],
      "text/plain": [
       "StructuredGrid (0x1e51e080e88)\n",
       "  N Cells:\t16384\n",
       "  N Points:\t16641\n",
       "  X Bounds:\t1.819e+06, 1.822e+06\n",
       "  Y Bounds:\t5.647e+06, 5.651e+06\n",
       "  Z Bounds:\t1.778e+03, 2.780e+03\n",
       "  Dimensions:\t129, 129, 1\n",
       "  N Arrays:\t0"
      ]
     },
     "execution_count": 11,
     "metadata": {},
     "output_type": "execute_result"
    }
   ],
   "source": [
    "xnew = np.array([[x for x in row[::2]] for row in terrain.x[::2]])\n",
    "ynew = np.array([[y for y in row[::2]] for row in terrain.y[::2]])\n",
    "znew = np.array([[z for z in row[::2]] for row in terrain.z[::2]])\n",
    "coarse = pv.StructuredGrid(xnew, ynew, znew)\n",
    "coarse"
   ]
  },
  {
   "cell_type": "markdown",
   "id": "answering-ambassador",
   "metadata": {},
   "source": [
    "We can plot the z-values of our new coarsened mesh by adding an additional attribute `values` to our mesh, which will contain a normalized, column-major flattened representation of the z-axis values of our grid.\n",
    "\n",
    "See the following reference for more information on array flattening: https://numpy.org/doc/stable/reference/generated/numpy.ndarray.flatten.html"
   ]
  },
  {
   "cell_type": "code",
   "execution_count": 12,
   "id": "empirical-unknown",
   "metadata": {},
   "outputs": [
    {
     "data": {
      "application/vnd.jupyter.widget-view+json": {
       "model_id": "9efb096f75be44dabcde45e2bf093eed",
       "version_major": 2,
       "version_minor": 0
      },
      "text/plain": [
       "Viewer(geometries=[{'vtkClass': 'vtkPolyData', 'points': {'vtkClass': 'vtkPoints', 'name': '_points', 'numberO…"
      ]
     },
     "metadata": {},
     "output_type": "display_data"
    },
    {
     "data": {
      "application/vnd.jupyter.widget-view+json": {
       "model_id": "9efb096f75be44dabcde45e2bf093eed",
       "version_major": 2,
       "version_minor": 0
      },
      "text/plain": [
       "Viewer(geometries=[{'vtkClass': 'vtkPolyData', 'points': {'vtkClass': 'vtkPoints', 'name': '_points', 'numberO…"
      ]
     },
     "metadata": {},
     "output_type": "display_data"
    }
   ],
   "source": [
    "# Plot the z-values using the viridis (default) color map\n",
    "coarse['values'] = pv.plotting.normalize(coarse.z.flatten('F'))\n",
    "\n",
    "pv.plot_itk(coarse, scalars = 'values')"
   ]
  },
  {
   "cell_type": "markdown",
   "id": "mighty-explorer",
   "metadata": {},
   "source": [
    "## Part 3: Visualizing Error Values\n",
    "\n",
    "Now that we have generated our coarse mesh, we can visualize the error in elevation between our coarse mesh and our original mesh. More specifically, we want to compute the error value for each point between the new (bilinearly interpolated) center point elevation and the original. We will then visualize the error as a scalar field on the original mesh."
   ]
  },
  {
   "cell_type": "markdown",
   "id": "civilian-concrete",
   "metadata": {},
   "source": [
    "Since we will need to bilinearly interpolate the center point elevation (i.e. the z-value) of each point in our coarse mesh in order to match the dimensions of our original mesh, let's define a function to do just that.\n",
    "\n",
    "Define the function `bilin()` to bilinearly interpolate the value at coordinates `(x,y)` within a rectilinear grid of points.\n",
    "\n",
    "**The parameters of your function are:**\n",
    "- `x` = x-coordinate of point whose value we wish to interpolate\n",
    "- `y` = y-coordinate of point whose value we wish to interpolate\n",
    "- `points` = a list of four triplets of the form `(xc, yc, val)`, where `val` denotes the function value associated with coordinates `(xc, yc)`\n",
    "\n",
    "This function should return a bilinearly interpolated value associated with coordinate `(x,y)` w.r.t the rectilinear grid formed by `points`.\n",
    "\n",
    "**Hints:**\n",
    "- You may assume the four triplets within `points` form a valid rectangle\n",
    "- You may assume `x` and `y` fall within the rectangle formed by the `points` parameter\n",
    "- You should NOT assume the four triplets within `points` are in any specific order"
   ]
  },
  {
   "cell_type": "code",
   "execution_count": 14,
   "id": "seasonal-landscape",
   "metadata": {},
   "outputs": [],
   "source": [
    "#NOTE: You do not need to round any values within your results.\n",
    "def bilin(x, y, points):\n",
    "    #points = sorted(points)\n",
    "    (x1, y1, q11), (x1, y2, q12), (x2, y1, q21), (x2, y2, q22) = points\n",
    "    \n",
    "    t_x = (x - x2) / (x1 - x2)\n",
    "    t_y = (y - y1) / (y2 - y1)\n",
    "    r1 = ((1 - t_y) * q11) + (t_y * q12)\n",
    "    r2 = ((1 - t_y) * q21) + (t_y * q22)\n",
    "    r3 = ((1 - t_x) * q21) + (t_x * q11)\n",
    "    r4 = ((1 - t_x) * q22) + (t_x * q12)\n",
    "    p = ((1 - t_y) * r3) + (t_y * r4)\n",
    "\n",
    "    if not x1 <= x <= x2 or not y1 <= y <= y2:\n",
    "        raise ValueError('(x, y) not within the rectangle')\n",
    "        \n",
    "    if x == x1 and y != y1 and y != y2:\n",
    "        return r1\n",
    "    elif x == x2 and y != y1 and y != y2:\n",
    "        return r2\n",
    "    elif y == y1 and x != x1 and x != x2:\n",
    "        return r3\n",
    "    elif y == y2 and x != x1 and x != x2:\n",
    "        return r4\n",
    "    else:\n",
    "        return p"
   ]
  },
  {
   "cell_type": "markdown",
   "id": "quarterly-corner",
   "metadata": {},
   "source": [
    "Now, using your `bilin()` function, create a new mesh or `StructuredGrid` object named `intmesh`, reconstructed from `coarse` using bilinear interpolation, with the same dimensions as our original mesh `terrain`. Your new mesh should contain the interpolated z-values for each point in `terrain`.\n",
    "\n",
    "As a starting point, we have defined some of the variables that will be helpful to you for creating your new interpolated mesh. Specifically, we will be checking the values in `errz` and `intz`, as defined below:\n",
    "- `intz`: a 3D array with the same shape as `terrain.z` that will contain the bilinearly interpolated z-values from the coarsened mesh.<br/>**Note:** `intz` is a 3D M x N x 1 array where the last dimension contains the z-values. You should note this when assigning elements to `intz`. See the following Piazza post for more information: https://piazza.com/class/kd7le70c8f1y4?cid=205.\n",
    "- `errz`: a list of scalar values. This should contain the absolute error values between each z-value in the original mesh and each interpolated z-value in the new returned mesh\n",
    "\n",
    "Just like how we added the attribute `values` to our coarse mesh in order to plot the z-values of the mesh, you should add an additional attribute `errors` to `intmesh` in order to plot the absolute error values between the z-values in the original mesh and the interpolated z-values in our new returned mesh."
   ]
  },
  {
   "cell_type": "code",
   "execution_count": 15,
   "id": "detailed-guinea",
   "metadata": {},
   "outputs": [],
   "source": [
    "def linear_interpolation(x, y, edge_points):\n",
    "    edge_points = sorted(edge_points)\n",
    "    (x0, y0, q0), (x1, y1, q1) = edge_points\n",
    "    \n",
    "    t = np.linalg.norm(np.array((x, y)) - np.array((x0, y0))) / np.linalg.norm(np.array((x1, y1)) - np.array((x0, y0)))\n",
    "    return ((1 - t) * q0) + (t * q1)"
   ]
  },
  {
   "cell_type": "code",
   "execution_count": 16,
   "id": "turned-conversion",
   "metadata": {},
   "outputs": [
    {
     "name": "stdout",
     "output_type": "stream",
     "text": [
      "256\n",
      "257\n"
     ]
    }
   ],
   "source": [
    "errz = []                                   # Create a new empty list for holding absolute error values\n",
    "intz = np.zeros_like(terrain.z)             # Create a new array for holding blinearly interpolated values from coarse mesh\n",
    "\n",
    "xlen = coarse.z.shape[0] - 1                # Number of cells (points - 1) on the x-axis of the coarse mesh\n",
    "ylen = coarse.z.shape[1] - 1                # Number of cells (points - 1) on the y-axis of the coarse mesh\n",
    "print((xlen) * 2)\n",
    "print(len(terrain.z))\n",
    "scale = (terrain.z.shape[0] - 1) / (coarse.z.shape[0] - 1)        # Reduction factor between original and coarse; should equal 2\n",
    "\n",
    "for row in range(0, intz.shape[0], 2):\n",
    "    for col in range(0, intz.shape[1]):\n",
    "        if row == intz.shape[0] - 1 and col % 2 != 0:\n",
    "            edge_points = [(row, col - 1, terrain.z[row][col - 1][0]),\n",
    "                           (row, col + 1, terrain.z[row][col + 1][0])]\n",
    "            intz[row][col][0] = linear_interpolation(row, col, edge_points)\n",
    "        elif row % 2 == 0 and col % 2 == 0:\n",
    "            intz[row][col][0] = terrain.z[row][col][0]\n",
    "        else:\n",
    "            points = [(row, col - 1, terrain.z[row][col - 1][0]), \n",
    "                      (row, col + 1, terrain.z[row][col + 1][0]),\n",
    "                      (row + 2, col - 1, terrain.z[row + 2][col - 1][0]),\n",
    "                      (row + 2, col + 1, terrain.z[row + 2][col + 1][0])]\n",
    "            \n",
    "            intz[row][col][0] = bilin(row, col, points)\n",
    "            intz[row + 1][col - 1][0] = bilin(row + 1, col - 1, points)\n",
    "            intz[row + 1][col][0] = bilin(row + 1, col, points)\n",
    "            intz[row + 1][col + 1][0] = bilin(row + 1, col + 1, points)\n",
    "\n",
    "intmesh = pv.StructuredGrid(terrain.x, terrain.y, intz)\n",
    "errz = abs(intmesh.z - terrain.z).flatten()"
   ]
  },
  {
   "cell_type": "code",
   "execution_count": 17,
   "id": "concrete-genius",
   "metadata": {},
   "outputs": [],
   "source": [
    "np.testing.assert_allclose(intz[130][130][0],2547.8, rtol=1e-4)\n",
    "np.testing.assert_allclose(intz[247][13][0],2142.71, rtol=1e-5)\n",
    "np.testing.assert_allclose(errz[89],1.89996337890625, rtol=1e-2)\n",
    "np.testing.assert_allclose(errz[30678],1.18499755859375, rtol=1e-2)\n",
    "np.testing.assert_allclose(errz[-10],1.0299072265625, rtol=1e-2)"
   ]
  }
 ],
 "metadata": {
  "kernelspec": {
   "display_name": "Python 3",
   "language": "python",
   "name": "python3"
  },
  "language_info": {
   "codemirror_mode": {
    "name": "ipython",
    "version": 3
   },
   "file_extension": ".py",
   "mimetype": "text/x-python",
   "name": "python",
   "nbconvert_exporter": "python",
   "pygments_lexer": "ipython3",
   "version": "3.7.10"
  }
 },
 "nbformat": 4,
 "nbformat_minor": 5
}
