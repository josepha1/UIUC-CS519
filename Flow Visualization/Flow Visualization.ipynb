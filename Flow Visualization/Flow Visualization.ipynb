{
 "cells": [
  {
   "cell_type": "markdown",
   "id": "58183d74",
   "metadata": {},
   "source": [
    "# Line Integral Convolution\n",
    "\n",
    "In this assignment, we will be implementing Line Integral Convolution (LIC), a technique for visualizing the flow of 2D vector fields developed by Brian Cabral and Leith Leedom. This technique was discussed in Week 10 of the course.\n",
    "\n",
    "See section 6.6 of *Data Visualization, 2nd Edition* by Alexandru C. Telea (accessible through UIUC Library sign-in at [this page](https://i-share-uiu.primo.exlibrisgroup.com/discovery/fulldisplay?docid=alma99944517012205899&context=L&vid=01CARLI_UIU:CARLI_UIU&tab=LibraryCatalog&lang=en)) or the Wikipedia page at https://en.wikipedia.org/wiki/Line_integral_convolution for additional overviews of the algorithm.\n",
    "\n",
    "You can also refer to the original paper by Cabral and Leedom, which can be found [here](http://cs.brown.edu/courses/csci2370/2000/1999/cabral.pdf).\n",
    "\n",
    "You should review one or more of the resources mentioned above **prior to** starting this assignment, as we expect a basic understanding of LIC before implementing the functions below.\n",
    "\n",
    "As usual, we will begin by importing the necessary modules."
   ]
  },
  {
   "cell_type": "code",
   "execution_count": 1,
   "id": "933db60b",
   "metadata": {},
   "outputs": [
    {
     "data": {
      "text/html": [
       "<style>.container { width:100% !important; }</style>"
      ],
      "text/plain": [
       "<IPython.core.display.HTML object>"
      ]
     },
     "metadata": {},
     "output_type": "display_data"
    }
   ],
   "source": [
    "from IPython.core.display import display, HTML\n",
    "display(HTML(\"<style>.container { width:100% !important; }</style>\"))\n",
    "\n",
    "import numpy as np\n",
    "import pylab as plt"
   ]
  },
  {
   "cell_type": "markdown",
   "id": "3cb6d1c8",
   "metadata": {},
   "source": [
    "The vector field that we will be working with for this assignment is defined below. The code below essentially produces an array of vortices. See the end of this assignment for what the final LIC image of this vector field should look like."
   ]
  },
  {
   "cell_type": "code",
   "execution_count": 2,
   "id": "0435163f",
   "metadata": {},
   "outputs": [],
   "source": [
    "size = 300\n",
    "\n",
    "vortex_spacing = 0.5\n",
    "extra_factor = 2.0\n",
    "\n",
    "a = np.array([1, 0]) * vortex_spacing\n",
    "b = np.array([np.cos(np.pi / 3), np.sin(np.pi / 3)]) * vortex_spacing\n",
    "rnv = int(2 * extra_factor / vortex_spacing)\n",
    "vortices = [n * a + m * b for n in range(-rnv, rnv) for m in range(-rnv, rnv)]\n",
    "vortices = [(x, y) for (x, y) in vortices if -extra_factor < x < extra_factor and -extra_factor < y < extra_factor]\n",
    "\n",
    "xs = np.linspace(-1, 1, size).astype(np.float64)[None, :]\n",
    "ys = np.linspace(-1, 1, size).astype(np.float64)[:, None]\n",
    "\n",
    "vx = np.zeros((size, size), dtype = np.float64)\n",
    "vy = np.zeros((size, size), dtype = np.float64)\n",
    "for(x, y) in vortices:\n",
    "    rsq = (xs - x)**2 + (ys - y)**2\n",
    "    vx +=  (ys - y) / rsq\n",
    "    vy += -(xs - x) / rsq"
   ]
  },
  {
   "cell_type": "markdown",
   "id": "11ecf9e9",
   "metadata": {},
   "source": [
    "LIC takes as input a noisy image or texture defined over the domain of the vector field we want to visualize and outputs an image that is blurred along the streamlines of the vector field. We will thus need to trace the streamlines for every pixel in the texture.\n",
    "\n",
    "In order to do so, let's first define and implement a function `advance` that will advance from one pixel to another in the direction of the vector associated with a given pixel within the vector field. This function should take 8 parameters:\n",
    "- `x` and `y` indicate the coordinates of the pixel we're currently on. \n",
    "- `ux` and `uy` indicate the x and y components of the vector at the current pixel\n",
    "- `fx` and `fy` indicate the current subpixel position (treating the current pixel as a unit square where `(0,0)` represents the top-left of the pixel, while `(1,1)` represents the bottom-right of the pixel).\n",
    "- `nx` and `ny` indicate the total number of pixels along the x and y axes within the domain of the entire vector field.\n",
    "\n",
    "`advance()` should return a 4-tuple consisting of updated `x`, `y`, `fx`, and `fy` values. These values should be updated by:\n",
    "  1. reading the current pixel / subpixel position given by `x`, `y`, `fx`, and `fy`\n",
    "  2. calculating `tx` and `ty` as the time it takes to reach the next pixel along each axis given `fx`, `fy`, `ux` and `uy`\n",
    "  3. determining whether the next pixel reached will be on the x-axis or on the y-axis, and whether we are moving forward or backward along that axis\n",
    "  4. using `tx`, `ty`, `ux`, `uy`, and the results of step (3) to update `x`, `y`, `fx`, and `fy` in the same order we cross pixel boundaries after `min(tx,ty)` units of time (i.e., advance far enough to cross a pixel boundary and no farther)\n",
    "  \n",
    "Your implementation should also handle the two special cases where `advance()` would return a pixel outside the vector field, or where `ux` and `uy` are both zero vectors. In the first case, `x` and `y` should just be clamped to the boundaries of the vector field. In the second case, you could actually interpolate the vector field value at that pixel, but for the purpose of this assignment, you can just return `None`. **Rounding should not be needed or used within your implementation**."
   ]
  },
  {
   "cell_type": "code",
   "execution_count": 3,
   "id": "02c6890a",
   "metadata": {},
   "outputs": [],
   "source": [
    "def advance(ux, uy, x, y, fx, fy, nx, ny):\n",
    "    '''\n",
    "    Move to the next pixel in the direction of the vector at the current pixel.\n",
    "    \n",
    "    Parameters\n",
    "    ----------\n",
    "    ux : float\n",
    "        Vector x component\n",
    "    uy : float\n",
    "        Vector y component\n",
    "    x : int\n",
    "        Pixel x index\n",
    "    y : int\n",
    "        Pixel y index\n",
    "    fx : float\n",
    "        Position along x in the pixel unit square\n",
    "    fy : float\n",
    "        Position along y in the pixel unit square\n",
    "    nx : int\n",
    "        Number of pixels along x-axis.\n",
    "    ny : int\n",
    "        Number of pixels along y-axis.\n",
    "        \n",
    "    Returns\n",
    "    -------\n",
    "    x : int\n",
    "        Updated pixel x index.\n",
    "    y : int\n",
    "        Updated pixel y index.\n",
    "    fx : float\n",
    "        Updated position along x in the pixel unit square.\n",
    "    fy : float\n",
    "        Updated position along y in the pixel unit square.\n",
    "    '''\n",
    "    \n",
    "    x, y, fx, fy = x, y, fx, fy\n",
    "    # print(x, y, fx, fy)\n",
    "    # Calculate the time it takes to reach the next pixel along the x-axis\n",
    "    if ux < 0:\n",
    "        tx = abs(fx / ux)\n",
    "    elif ux > 0:\n",
    "        tx = abs((1 - fx) / ux)\n",
    "    # Calculate the time it takes to reach the next pixel along the y-axis\n",
    "    if uy < 0:\n",
    "        ty = abs(fy / uy)\n",
    "    elif uy > 0:\n",
    "        ty = abs((1 - fy) / uy)\n",
    "    \n",
    "    # print(f'The value of tx is: {tx} and the value of ty is: {ty}')\n",
    "    \n",
    "    # Corner cases\n",
    "    ## If both vector components equal 0\n",
    "    if ux == 0 and uy == 0:\n",
    "        return None\n",
    "    ## If we attempt to move backward along the x-axis and we are at x = 0\n",
    "    if tx < ty and ux < 0 and x == 0:\n",
    "        fx = 1\n",
    "        fy += (tx * uy)\n",
    "        return((x, y, fx, fy))\n",
    "    ## If we attempt to move forward along the x-axis and we are at x = nx-1\n",
    "    elif tx < ty and ux > 0 and x == (nx - 1):\n",
    "        fx = 0\n",
    "        fy += (tx * uy)\n",
    "        return((x, y, fx, fy))\n",
    "    ## If we attempt to move backward along the y-axis and we are at y = 0\n",
    "    elif ty < tx and uy < 0 and y == 0:\n",
    "        fx += (ty * ux)\n",
    "        fy = 1\n",
    "        return((x, y, fx, fy))\n",
    "    ## If we attempt to move forward along the y-axis and we are at y = ny-1\n",
    "    elif ty < tx and uy > 0 and y == (ny - 1):\n",
    "        fx += (ty * ux)\n",
    "        fy = 0\n",
    "        return((x, y, fx, fy))\n",
    "    \n",
    "    # If we are moving backward along the x-axis\n",
    "    if tx < ty and ux < 0:\n",
    "        fx = 1\n",
    "        fy += (tx * uy)\n",
    "        x -= 1\n",
    "    # If we are moving forward along the x-axis\n",
    "    elif tx < ty and ux > 0:\n",
    "        fx = 0\n",
    "        fy += (tx * uy)\n",
    "        x += 1\n",
    "    # If we are moving backward along the y-axis\n",
    "    elif ty < tx and uy < 0:\n",
    "        fx += (ty * ux)\n",
    "        fy = 1\n",
    "        y -= 1\n",
    "    # If we are moving forward along the y-axis\n",
    "    else:\n",
    "        fx += (ty * ux)\n",
    "        fy = 0\n",
    "        y += 1\n",
    "    \n",
    "    return ((x, y, fx, fy))"
   ]
  },
  {
   "cell_type": "code",
   "execution_count": 4,
   "id": "8c2d2fcd",
   "metadata": {},
   "outputs": [
    {
     "name": "stdout",
     "output_type": "stream",
     "text": [
      "0 0 0.5 0.5\n",
      "The value of tx is: 0.026191723415400735 and the value of ty is: 0.03508771929824561\n",
      "1 0 0 0.13\n",
      "The value of tx is: 0.07017543859649122 and the value of ty is: 0.01234567901234568\n",
      "1 1 0.67 0\n",
      "The value of tx is: 0.06511175898931001 and the value of ty is: 0.09442870632672333\n"
     ]
    }
   ],
   "source": [
    "# Sanity check\n",
    "\n",
    "x_1, y_1, fx_1, fy_1 = advance(-19.09, 14.25, 0, 0, 0.5, 0.5, 10, 10)\n",
    "\n",
    "np.testing.assert_allclose(x_1, 0, atol=0.01,rtol=0)\n",
    "np.testing.assert_allclose(y_1, 0, atol=0.01,rtol=0)\n",
    "np.testing.assert_allclose(fx_1, 1, atol=0.01,rtol=0)\n",
    "np.testing.assert_allclose(fy_1, 0.873, atol=0.01,rtol=0)\n",
    "\n",
    "x_2, y_2, fx_2, fy_2 = advance(14.25, -10.53, 1, 0, 0, 0.13, 10, 10)\n",
    "\n",
    "np.testing.assert_allclose(x_2, 1, atol=0.01,rtol=0)\n",
    "np.testing.assert_allclose(y_2, 0, atol=0.01,rtol=0)\n",
    "np.testing.assert_allclose(fx_2, 0.176, atol=0.01,rtol=0)\n",
    "np.testing.assert_allclose(fy_2, 1, atol=0.01,rtol=0)\n",
    "\n",
    "x_3, y_3, fx_3, fy_3 = advance(-10.29, 10.59, 1, 1, 0.67, 0, 10, 10)\n",
    "\n",
    "np.testing.assert_allclose(x_3, 0, atol=0.01,rtol=0)\n",
    "np.testing.assert_allclose(y_3, 1, atol=0.01,rtol=0)\n",
    "np.testing.assert_allclose(fx_3, 1, atol=0.01,rtol=0)\n",
    "np.testing.assert_allclose(fy_3, 0.690, atol=0.01,rtol=0)"
   ]
  },
  {
   "cell_type": "code",
   "execution_count": null,
   "id": "bd81accd",
   "metadata": {},
   "outputs": [],
   "source": []
  }
 ],
 "metadata": {
  "kernelspec": {
   "display_name": "Python 3",
   "language": "python",
   "name": "python3"
  },
  "language_info": {
   "codemirror_mode": {
    "name": "ipython",
    "version": 3
   },
   "file_extension": ".py",
   "mimetype": "text/x-python",
   "name": "python",
   "nbconvert_exporter": "python",
   "pygments_lexer": "ipython3",
   "version": "3.8.8"
  }
 },
 "nbformat": 4,
 "nbformat_minor": 5
}
